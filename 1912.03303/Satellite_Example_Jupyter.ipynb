{
 "cells": [
  {
   "cell_type": "code",
   "execution_count": 1,
   "metadata": {},
   "outputs": [],
   "source": [
    "#Imports\n",
    "import numpy as np\n",
    "from ChainConsumer import ChainConsumer\n",
    "from load_hyperparams import *\n",
    "from masks import load_survey_masks\n",
    "from satellite_realization import satellite_realization, evaluate_ln_likelihood, evaluate_ln_prior, mcmc\n",
    "from load_satellites import get_true_counts"
   ]
  },
  {
   "cell_type": "code",
   "execution_count": 4,
   "metadata": {},
   "outputs": [],
   "source": [
    "#Load hyperparameters\n",
    "hparams, prior_hparams, cosmo_params, orphan_params, halo_data, sim_indices, vpeak_Mr_interp = load_hyperparams()\n",
    "\n",
    "#Set parameters\n",
    "params = load_params()\n",
    "default_param_vector = np.array(list(load_params().values()))\n",
    "\n",
    "#For likelihood illustration\n",
    "ruled_out_M50_param_vector = np.array(list(load_params().values()))\n",
    "ruled_out_M50_param_vector[2] = 8.4\n",
    "\n",
    "ruled_out_Mhm_param_vector = np.array(list(load_params().values()))\n",
    "ruled_out_Mhm_param_vector[-1] = 8.0"
   ]
  },
  {
   "cell_type": "code",
   "execution_count": null,
   "metadata": {
    "scrolled": true
   },
   "outputs": [],
   "source": [
    "#Load masks and ssfs\n",
    "print('loading masks and ssfs ... \\n')\n",
    "masks,ssfs = load_survey_masks()\n",
    "print('\\n done')"
   ]
  },
  {
   "cell_type": "code",
   "execution_count": null,
   "metadata": {},
   "outputs": [],
   "source": [
    "#Get list of satellite realizations\n",
    "combined_satellite_properties_list, mock_counts = satellite_realization(default_param_vector,\n",
    "                                                           hparams,cosmo_params,orphan_params,\n",
    "                                                           halo_data,sim_indices,\n",
    "                                                           vpeak_Mr_interp,masks,ssfs,'cdm')"
   ]
  },
  {
   "cell_type": "code",
   "execution_count": null,
   "metadata": {
    "scrolled": true
   },
   "outputs": [],
   "source": [
    "#First look at predictions\n",
    "satellite_num = {}\n",
    "satellite_num['des'] = []\n",
    "satellite_num['ps1'] = []\n",
    "\n",
    "for i in range(len(combined_satellite_properties_list)):\n",
    "    for survey in ['des','ps1']:\n",
    "        flags = combined_satellite_properties_list[i]['{}_flags'.format(survey)]\n",
    "        satellite_num[survey].append(np.sum(combined_satellite_properties_list[i]['pdet'][flags]))\n",
    "\n",
    "for survey in ['des','ps1']:\n",
    "    print('number of predicted {} satellites = {:.1f} +/- {:.1f}'.format(survey,np.mean(satellite_num[survey],axis=0),\n",
    "                                                                         np.std(satellite_num[survey],axis=0)))"
   ]
  },
  {
   "cell_type": "code",
   "execution_count": null,
   "metadata": {},
   "outputs": [],
   "source": [
    "#Illustrate likelihood evaluation\n",
    "true_counts = get_true_counts()\n",
    "\n",
    "#For default parameters\n",
    "lnlike = evaluate_ln_likelihood(default_param_vector,hparams,cosmo_params,orphan_params,\n",
    "                                halo_data,sim_indices,vpeak_Mr_interp,\n",
    "                                masks,ssfs,true_counts,suppression='cdm',surveys=['des','ps1'])\n",
    "\n",
    "#For suppressed galaxy formation\n",
    "lnlike_suppressed = evaluate_ln_likelihood(ruled_out_M50_param_vector,hparams,cosmo_params,orphan_params,\n",
    "                                halo_data,sim_indices,vpeak_Mr_interp,\n",
    "                                masks,ssfs,true_counts,suppression='cdm',surveys=['des','ps1'])\n",
    "\n",
    "print('M50 log-likelihood ratio = {}'.format(lnlike_suppressed-lnlike))\n",
    "\n",
    "#For warm dark matter suppression\n",
    "lnlike_suppressed = evaluate_ln_likelihood(ruled_out_Mhm_param_vector,hparams,cosmo_params,orphan_params,\n",
    "                                halo_data,sim_indices,vpeak_Mr_interp,\n",
    "                                masks,ssfs,true_counts,suppression='wdm',surveys=['des','ps1'])\n",
    "\n",
    "print('Mhm log-likelihood ratio = {}'.format(lnlike_suppressed-lnlike))"
   ]
  },
  {
   "cell_type": "code",
   "execution_count": null,
   "metadata": {},
   "outputs": [],
   "source": [
    "#Short run to demonstrate functionality; not converged!\n",
    "samples = mcmc(default_param_vector,hparams,prior_hparams,cosmo_params,orphan_params,\n",
    "                                halo_data,sim_indices,vpeak_Mr_interp,\n",
    "                                masks,ssfs,true_counts,suppression='wdm',surveys=['des','ps1'])"
   ]
  },
  {
   "cell_type": "code",
   "execution_count": null,
   "metadata": {},
   "outputs": [],
   "source": [
    "c = ChainConsumer()\n",
    "c.add_chain(samples, parameters=[r\"$\\alpha$\",r\"$\\sigma_M$\",r\"$\\mathcal{M}_{50}$\",r\"$\\sigma{\\mathrm{gal}}$\",\n",
    "                                 r\"$\\mathcal{B}$\",r\"$\\mathcal{A}$\",r\"$\\sigma_{\\log R}$\",r\"$n$\",r\"$M_{\\mathrm{hm}}$\"])\n",
    "\n",
    "c.configure(colors=[\"#04859B\", \"#003660\"], shade=[True,False], shade_alpha=0.5, bar_shade=True,spacing=3.0,\n",
    "            diagonal_tick_labels=False, tick_font_size=14, label_font_size=13, sigma2d=False,max_ticks=3, \n",
    "            summary=True,kde=False)\n",
    "\n",
    "fig = c.plotter.plot(figsize=(12,12),extents=[[-1.482,-1.39],[0,0.25],[7.5,8.1],[0,1],[0,2],[15,100],[0,0.785],\n",
    "                                              [0.1,2],[5.5,9]],display=True,filename=\"corner_Mhm.pdf\")"
   ]
  },
  {
   "cell_type": "code",
   "execution_count": null,
   "metadata": {},
   "outputs": [],
   "source": []
  }
 ],
 "metadata": {
  "kernelspec": {
   "display_name": "Python 3",
   "language": "python",
   "name": "python3"
  },
  "language_info": {
   "codemirror_mode": {
    "name": "ipython",
    "version": 3
   },
   "file_extension": ".py",
   "mimetype": "text/x-python",
   "name": "python",
   "nbconvert_exporter": "python",
   "pygments_lexer": "ipython3",
   "version": "3.7.3"
  }
 },
 "nbformat": 4,
 "nbformat_minor": 2
}
